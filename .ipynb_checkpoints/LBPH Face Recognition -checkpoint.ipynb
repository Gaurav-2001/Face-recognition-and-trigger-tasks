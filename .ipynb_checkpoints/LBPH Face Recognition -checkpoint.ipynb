{
 "cells": [
  {
   "cell_type": "markdown",
   "metadata": {},
   "source": [
    "## ***Data Collection***"
   ]
  },
  {
   "cell_type": "code",
   "execution_count": null,
   "metadata": {},
   "outputs": [],
   "source": [
    "import cv2\n",
    "model=cv2.CascadeClassifier('haarcascade_frontalface_default.xml')\n",
    "cap=cv2.VideoCapture(0)\n",
    "\n",
    "def face_detect(photo):\n",
    "    face=model.detectMultiScale(photo,1.3,5)\n",
    "    if len(face) != 0:\n",
    "        for (x,y,w,h) in face:\n",
    "            photo = photo[y:y+h,x:x+h]\n",
    "        return photo\n",
    "    else:\n",
    "        return None  \n",
    "    \n",
    "count=0\n",
    "while True:\n",
    "    status,photo=cap.read()\n",
    "    photo=cv2.cvtColor(photo,cv2.COLOR_BGR2GRAY)\n",
    "    if face_detect(photo) is not None:\n",
    "        count += 1\n",
    "        photo=cv2.resize(face_detect(photo),(200,200))\n",
    "        file_path = './Gaurav/' + str(count) + \".jpg\"\n",
    "        cv2.imwrite(file_path,photo)\n",
    "        cv2.putText(photo, str(count), (50, 50), cv2.FONT_HERSHEY_COMPLEX, 1, (0,255,0), 2)\n",
    "        cv2.imshow('hi',photo)\n",
    "    else:\n",
    "        pass\n",
    "    if cv2.waitKey(1) == 27 or count>=100:\n",
    "            break    \n",
    "\n",
    "cv2.destroyAllWindows()\n",
    "cap.release()"
   ]
  },
  {
   "cell_type": "markdown",
   "metadata": {},
   "source": [
    "## ***Create Model***"
   ]
  },
  {
   "cell_type": "markdown",
   "metadata": {},
   "source": [
    "### ***Gaurav***"
   ]
  },
  {
   "cell_type": "code",
   "execution_count": null,
   "metadata": {},
   "outputs": [],
   "source": [
    "import cv2\n",
    "import numpy as np\n",
    "from os import listdir\n",
    "from os.path import isfile, join\n",
    "\n",
    "data_path='./Gaurav/'\n",
    "\n",
    "onlyfiles=[]\n",
    "for f in listdir(data_path):\n",
    "    if isfile(join(data_path,f)):\n",
    "        onlyfiles.append(f)\n",
    "        \n",
    "Training_data=[]\n",
    "labels=[]\n",
    "\n",
    "for count, file in enumerate(onlyfiles):\n",
    "    image_path=data_path+onlyfiles[count]\n",
    "    image=cv2.imread(image_path,cv2.IMREAD_GRAYSCALE)\n",
    "    Training_data.append(np.asarray(image,dtype=np.uint8))\n",
    "    labels.append(count)\n",
    "\n",
    "labels=np.asarray(labels,dtype=np.int32)\n",
    "Training_data=np.asarray(Training_data)\n",
    "\n",
    "gaurav_model=cv2.face_LBPHFaceRecognizer.create()\n",
    "gaurav_model.train(Training_data,labels)\n",
    "print(\"Gaurav Model trained sucessefully\")"
   ]
  },
  {
   "cell_type": "markdown",
   "metadata": {},
   "source": [
    "### ***Omkar***"
   ]
  },
  {
   "cell_type": "code",
   "execution_count": 1,
   "metadata": {},
   "outputs": [
    {
     "name": "stdout",
     "output_type": "stream",
     "text": [
      "Omkar Model trained sucessefully\n"
     ]
    }
   ],
   "source": [
    "import cv2\n",
    "import numpy as np\n",
    "from os import listdir\n",
    "from os.path import isfile, join\n",
    "\n",
    "data_path='./Omkar/'\n",
    "\n",
    "onlyfiles=[]\n",
    "for f in listdir(data_path):\n",
    "    if isfile(join(data_path,f)):\n",
    "        onlyfiles.append(f)\n",
    "        \n",
    "Training_data=[]\n",
    "labels=[]\n",
    "\n",
    "for count, file in enumerate(onlyfiles):\n",
    "    image_path=data_path+onlyfiles[count]\n",
    "    image=cv2.imread(image_path,cv2.IMREAD_GRAYSCALE)\n",
    "    Training_data.append(np.asarray(image,dtype=np.uint8))\n",
    "    labels.append(count)\n",
    "\n",
    "labels=np.asarray(labels,dtype=np.int32)\n",
    "Training_data=np.asarray(Training_data)\n",
    "\n",
    "omkar_model=cv2.face_LBPHFaceRecognizer.create()\n",
    "omkar_model.train(Training_data,labels)\n",
    "print(\"Omkar Model trained sucessefully\")"
   ]
  },
  {
   "cell_type": "markdown",
   "metadata": {},
   "source": [
    "## ***WhatsApp Using Python***"
   ]
  },
  {
   "cell_type": "code",
   "execution_count": 2,
   "metadata": {},
   "outputs": [],
   "source": [
    "import pywhatkit\n",
    "import datetime\n",
    "import pytz\n",
    "\n",
    "def whatsapp():\n",
    "    c = datetime.datetime.now(pytz.timezone('Asia/Kolkata'))\n",
    "    pywhatkit.sendwhatmsg(\"+91******\", \"Hello Task 6 is compleated\",c.hour,c.minute+1,10)"
   ]
  },
  {
   "cell_type": "markdown",
   "metadata": {},
   "source": [
    "## ***Email Using Python***"
   ]
  },
  {
   "cell_type": "code",
   "execution_count": 3,
   "metadata": {},
   "outputs": [],
   "source": [
    "import smtplib, ssl\n",
    "import getpass\n",
    "\n",
    "def email(password):\n",
    "    port = 465  # For SSL\n",
    "    smtp_server = \"smtp.gmail.com\"\n",
    "    sender_email = \"***@gmail.com\"  # Enter your address\n",
    "    receiver_email = \"***@gmail.com\"  # Enter receiver address\n",
    "    message = \"\"\"\\\n",
    "    Subject: Hello From Python\n",
    "\n",
    "    This is the Face of Omkar.\"\"\"\n",
    "\n",
    "    context = ssl.create_default_context()\n",
    "    with smtplib.SMTP_SSL(smtp_server, port, context=context) as server:\n",
    "        server.login(sender_email, password)\n",
    "        server.sendmail(sender_email, receiver_email, message)"
   ]
  },
  {
   "cell_type": "markdown",
   "metadata": {},
   "source": [
    "## ***Run Our Facial Recognition***"
   ]
  },
  {
   "cell_type": "code",
   "execution_count": null,
   "metadata": {},
   "outputs": [],
   "source": [
    "import cv2\n",
    "import os\n",
    "\n",
    "cap=cv2.VideoCapture(0)\n",
    "model1=cv2.CascadeClassifier('haarcascade_frontalface_default.xml')\n",
    "\n",
    "def face_detect(img):\n",
    "    gray = cv2.cvtColor(img,cv2.COLOR_BGR2GRAY)\n",
    "    faces = model1.detectMultiScale(gray, 1.3, 5)\n",
    "    if faces is ():\n",
    "        return img, []   \n",
    "    for (x,y,w,h) in faces:\n",
    "        cv2.rectangle(img,(x,y),(x+w,y+h),(0,255,255),2)\n",
    "        roi = img[y:y+h, x:x+w]\n",
    "        roi = cv2.resize(roi, (200, 200))\n",
    "    return img, roi\n",
    "\n",
    "    \n",
    "while True:\n",
    "    status,photo=cap.read()\n",
    "    photo, face=face_detect(photo)\n",
    "   \n",
    "    try:\n",
    "        face = cv2.cvtColor(cv2.UMat(face), cv2.COLOR_BGR2GRAY)\n",
    "        result1=gaurav_model.predict(face)\n",
    "        \n",
    "        if result1[1] < 500:\n",
    "            confidence = int( 100 * (1 - (result1[1])/400) )\n",
    "            display_string = str(confidence) + '% Confident it is User'\n",
    "        \n",
    "        cv2.putText(photo, display_string, (100, 120), cv2.FONT_HERSHEY_COMPLEX, 1, (255,120,150), 2)\n",
    "        \n",
    "        if confidence > 85:\n",
    "            cv2.putText(photo, \"Hey Gaurav \", (250, 450), cv2.FONT_HERSHEY_COMPLEX, 1, (0,255,0), 2)\n",
    "            cv2.imshow('Face Recognition - Gaurav', photo )\n",
    "            run_terraform = True\n",
    "        else:\n",
    "            cv2.putText(photo, \"I dont know you\", (250, 450), cv2.FONT_HERSHEY_COMPLEX, 1, (0,0,255), 2)\n",
    "            cv2.imshow('Face Recognition - Gaurav', photo )\n",
    "   \n",
    "    except:\n",
    "        cv2.putText(photo, \"No Face Found\", (220, 120) , cv2.FONT_HERSHEY_COMPLEX, 1, (0,0,255), 2)\n",
    "        cv2.putText(photo, \"looking for face\", (250, 450), cv2.FONT_HERSHEY_COMPLEX, 1, (0,0,255), 2)\n",
    "        cv2.imshow('Face Recognition - Gaurav', photo )\n",
    "        pass\n",
    "    if cv2.waitKey(1)==27:\n",
    "        break\n",
    "        \n",
    "\n",
    "cv2.destroyAllWindows()\n",
    "if run_terraform:\n",
    "    print('Terraform Code is executing ..')\n",
    "    os.system('terraform init')\n",
    "    print('Terraform code executing ..')\n",
    "    os.system('terraform apply --auto-approve')\n",
    "    print(\"Your aws environment is configured.\")\n",
    "cap.release()"
   ]
  },
  {
   "cell_type": "markdown",
   "metadata": {},
   "source": [
    "## ***Run Our Facial Recognition***"
   ]
  },
  {
   "cell_type": "code",
   "execution_count": 4,
   "metadata": {},
   "outputs": [
    {
     "name": "stdout",
     "output_type": "stream",
     "text": [
      "In 37 seconds web.whatsapp.com will open and after 10 seconds message will be delivered\n"
     ]
    }
   ],
   "source": [
    "import cv2\n",
    "cap=cv2.VideoCapture(0)\n",
    "model1=cv2.CascadeClassifier('haarcascade_frontalface_default.xml')\n",
    "run_email=False\n",
    "\n",
    "def face_detect(img):\n",
    "    gray = cv2.cvtColor(img,cv2.COLOR_BGR2GRAY)\n",
    "    faces = model1.detectMultiScale(gray, 1.3, 5)\n",
    "    if faces is ():\n",
    "        return img, []   \n",
    "    for (x,y,w,h) in faces:\n",
    "        cv2.rectangle(img,(x,y),(x+w,y+h),(0,255,255),2)\n",
    "        roi = img[y:y+h, x:x+w]\n",
    "        roi = cv2.resize(roi, (200, 200))\n",
    "    return img, roi\n",
    "\n",
    "    \n",
    "while True:\n",
    "    status,photo=cap.read()\n",
    "    photo, face=face_detect(photo)\n",
    "   \n",
    "    try:\n",
    "        face = cv2.cvtColor(cv2.UMat(face), cv2.COLOR_BGR2GRAY)\n",
    "        result2=omkar_model.predict(face)\n",
    "        \n",
    "        if result2[1] < 500:\n",
    "            confidence = int( 100 * (1 - (result2[1])/400) )\n",
    "            display_string = str(confidence) + '% Confident it is User'\n",
    "        \n",
    "        cv2.putText(photo, display_string, (100, 120), cv2.FONT_HERSHEY_COMPLEX, 1, (255,120,150), 2)\n",
    "        \n",
    "        if confidence >= 85:\n",
    "            cv2.putText(photo, \"Hey Omkar\", (250, 450), cv2.FONT_HERSHEY_COMPLEX, 1, (0,255,0), 2)\n",
    "            cv2.imshow('Face Recognition - Omkar', photo )\n",
    "            run_email=True\n",
    "        else:\n",
    "            cv2.putText(photo, \"I dont know you\", (250, 450), cv2.FONT_HERSHEY_COMPLEX, 1, (0,0,255), 2)\n",
    "            cv2.imshow('Face Recognition - Omkar', photo )\n",
    "   \n",
    "    except:\n",
    "        cv2.putText(photo, \"No Face Found\", (220, 120) , cv2.FONT_HERSHEY_COMPLEX, 1, (0,0,255), 2)\n",
    "        cv2.putText(photo, \"looking for face\", (250, 450), cv2.FONT_HERSHEY_COMPLEX, 1, (0,0,255), 2)\n",
    "        cv2.imshow('Face Recognition - Omkar', photo )\n",
    "        pass\n",
    "    if cv2.waitKey(1)==27:\n",
    "        break\n",
    "cv2.destroyAllWindows()\n",
    "if run_email:\n",
    "    email('****')\n",
    "    whatsapp()\n",
    "cap.release()"
   ]
  },
  {
   "cell_type": "code",
   "execution_count": null,
   "metadata": {},
   "outputs": [],
   "source": []
  }
 ],
 "metadata": {
  "kernelspec": {
   "display_name": "Python 3",
   "language": "python",
   "name": "python3"
  },
  "language_info": {
   "codemirror_mode": {
    "name": "ipython",
    "version": 3
   },
   "file_extension": ".py",
   "mimetype": "text/x-python",
   "name": "python",
   "nbconvert_exporter": "python",
   "pygments_lexer": "ipython3",
   "version": "3.7.9"
  }
 },
 "nbformat": 4,
 "nbformat_minor": 4
}
